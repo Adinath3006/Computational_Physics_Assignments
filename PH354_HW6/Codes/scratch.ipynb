{
 "cells": [
  {
   "cell_type": "code",
   "execution_count": 10,
   "metadata": {},
   "outputs": [
    {
     "data": {
      "text/plain": [
       "[W6,\n",
       " W7,\n",
       " W8,\n",
       " W9,\n",
       " W10,\n",
       " -6.0*W1 + 6.0*W2 + 1.0*cos(5*W0),\n",
       " 6.0*W1 - 12.0*W2 + 6.0*W3,\n",
       " 6.0*W2 - 12.0*W3 + 6.0*W4,\n",
       " 6.0*W3 - 12.0*W4 + 6.0*W5,\n",
       " 6.0*W4 - 6.0*W5]"
      ]
     },
     "execution_count": 10,
     "metadata": {},
     "output_type": "execute_result"
    }
   ],
   "source": [
    "import sympy as smp\n",
    "N = 5\n",
    "k = 6\n",
    "m = 1\n",
    "omega = 5\n",
    "W = smp.symbols(f'W(0:{2*N+1})')\n",
    "\"\"\"Let the variables be t, ξ1, ξ2,..., ξN, ξ'1, ξ'2,..., ξ'N\"\"\"\n",
    "\n",
    "# defining the system of differential equations\n",
    "fsys = []\n",
    "for i in range(1,N+1):\n",
    "    fsys.append(W[N+i])\n",
    "for i in range(1,N+1):\n",
    "    if i == 1:\n",
    "        fsys.append((1/m)*(k*(W[2] - W[1]) + smp.cos(omega*W[0])))\n",
    "    elif i == N:\n",
    "        fsys.append((1/m)*(k*(W[N-1] - W[N])))\n",
    "    else:\n",
    "        fsys.append((1/m)*(k*(W[i+1] - W[i]) + k*(W[i-1] - W[i])))\n",
    "        \n",
    "fsys"
   ]
  },
  {
   "cell_type": "code",
   "execution_count": 8,
   "metadata": {},
   "outputs": [
    {
     "ename": "ValueError",
     "evalue": "The truth value of an array with more than one element is ambiguous. Use a.any() or a.all()",
     "output_type": "error",
     "traceback": [
      "\u001b[1;31m---------------------------------------------------------------------------\u001b[0m",
      "\u001b[1;31mValueError\u001b[0m                                Traceback (most recent call last)",
      "Cell \u001b[1;32mIn[8], line 23\u001b[0m\n\u001b[0;32m     21\u001b[0m vertices \u001b[39m=\u001b[39m []\n\u001b[0;32m     22\u001b[0m \u001b[39mfor\u001b[39;00m values \u001b[39min\u001b[39;00m itertools\u001b[39m.\u001b[39mproduct(a, repeat\u001b[39m=\u001b[39m\u001b[39m4\u001b[39m):\n\u001b[1;32m---> 23\u001b[0m     res \u001b[39m=\u001b[39m minimize(\u001b[39mlambda\u001b[39;49;00m x: \u001b[39msum\u001b[39;49m(x), x0 \u001b[39m=\u001b[39;49m [\u001b[39m0\u001b[39;49m,\u001b[39m0\u001b[39;49m,\u001b[39m0.13\u001b[39;49m,\u001b[39m1\u001b[39;49m], method\u001b[39m=\u001b[39;49m \u001b[39m'\u001b[39;49m\u001b[39mslsqp\u001b[39;49m\u001b[39m'\u001b[39;49m, args\u001b[39m=\u001b[39;49mvalues, constraints\u001b[39m=\u001b[39;49m{\u001b[39m'\u001b[39;49m\u001b[39mtype\u001b[39;49m\u001b[39m'\u001b[39;49m: \u001b[39m'\u001b[39;49m\u001b[39mineq\u001b[39;49m\u001b[39m'\u001b[39;49m, \u001b[39m'\u001b[39;49m\u001b[39mfun\u001b[39;49m\u001b[39m'\u001b[39;49m: constraints}, bounds\u001b[39m=\u001b[39;49mbounds)\n\u001b[0;32m     24\u001b[0m     \u001b[39mif\u001b[39;00m res\u001b[39m.\u001b[39msuccess:\n\u001b[0;32m     25\u001b[0m         vertices\u001b[39m.\u001b[39mappend(res\u001b[39m.\u001b[39mx)\n",
      "File \u001b[1;32mc:\\Users\\adinath\\AppData\\Local\\Programs\\Python\\Python311\\Lib\\site-packages\\scipy\\optimize\\_minimize.py:705\u001b[0m, in \u001b[0;36mminimize\u001b[1;34m(fun, x0, args, method, jac, hess, hessp, bounds, constraints, tol, callback, options)\u001b[0m\n\u001b[0;32m    702\u001b[0m     res \u001b[39m=\u001b[39m _minimize_cobyla(fun, x0, args, constraints, callback\u001b[39m=\u001b[39mcallback,\n\u001b[0;32m    703\u001b[0m                             \u001b[39m*\u001b[39m\u001b[39m*\u001b[39moptions)\n\u001b[0;32m    704\u001b[0m \u001b[39melif\u001b[39;00m meth \u001b[39m==\u001b[39m \u001b[39m'\u001b[39m\u001b[39mslsqp\u001b[39m\u001b[39m'\u001b[39m:\n\u001b[1;32m--> 705\u001b[0m     res \u001b[39m=\u001b[39m _minimize_slsqp(fun, x0, args, jac, bounds,\n\u001b[0;32m    706\u001b[0m                           constraints, callback\u001b[39m=\u001b[39;49mcallback, \u001b[39m*\u001b[39;49m\u001b[39m*\u001b[39;49moptions)\n\u001b[0;32m    707\u001b[0m \u001b[39melif\u001b[39;00m meth \u001b[39m==\u001b[39m \u001b[39m'\u001b[39m\u001b[39mtrust-constr\u001b[39m\u001b[39m'\u001b[39m:\n\u001b[0;32m    708\u001b[0m     res \u001b[39m=\u001b[39m _minimize_trustregion_constr(fun, x0, args, jac, hess, hessp,\n\u001b[0;32m    709\u001b[0m                                        bounds, constraints,\n\u001b[0;32m    710\u001b[0m                                        callback\u001b[39m=\u001b[39mcallback, \u001b[39m*\u001b[39m\u001b[39m*\u001b[39moptions)\n",
      "File \u001b[1;32mc:\\Users\\adinath\\AppData\\Local\\Programs\\Python\\Python311\\Lib\\site-packages\\scipy\\optimize\\_slsqp_py.py:329\u001b[0m, in \u001b[0;36m_minimize_slsqp\u001b[1;34m(func, x0, args, jac, bounds, constraints, maxiter, ftol, iprint, disp, eps, callback, finite_diff_rel_step, **unknown_options)\u001b[0m\n\u001b[0;32m    325\u001b[0m \u001b[39m# Set the parameters that SLSQP will need\u001b[39;00m\n\u001b[0;32m    326\u001b[0m \u001b[39m# meq, mieq: number of equality and inequality constraints\u001b[39;00m\n\u001b[0;32m    327\u001b[0m meq \u001b[39m=\u001b[39m \u001b[39msum\u001b[39m(\u001b[39mmap\u001b[39m(\u001b[39mlen\u001b[39m, [atleast_1d(c[\u001b[39m'\u001b[39m\u001b[39mfun\u001b[39m\u001b[39m'\u001b[39m](x, \u001b[39m*\u001b[39mc[\u001b[39m'\u001b[39m\u001b[39margs\u001b[39m\u001b[39m'\u001b[39m]))\n\u001b[0;32m    328\u001b[0m           \u001b[39mfor\u001b[39;00m c \u001b[39min\u001b[39;00m cons[\u001b[39m'\u001b[39m\u001b[39meq\u001b[39m\u001b[39m'\u001b[39m]]))\n\u001b[1;32m--> 329\u001b[0m mieq \u001b[39m=\u001b[39m \u001b[39msum\u001b[39m(\u001b[39mmap\u001b[39m(\u001b[39mlen\u001b[39m, [atleast_1d(c[\u001b[39m'\u001b[39;49m\u001b[39mfun\u001b[39;49m\u001b[39m'\u001b[39;49m](x, \u001b[39m*\u001b[39;49mc[\u001b[39m'\u001b[39;49m\u001b[39margs\u001b[39;49m\u001b[39m'\u001b[39;49m]))\n\u001b[0;32m    330\u001b[0m            \u001b[39mfor\u001b[39;49;00m c \u001b[39min\u001b[39;49;00m cons[\u001b[39m'\u001b[39;49m\u001b[39mineq\u001b[39;49m\u001b[39m'\u001b[39;49m]]))\n\u001b[0;32m    331\u001b[0m \u001b[39m# m = The total number of constraints\u001b[39;00m\n\u001b[0;32m    332\u001b[0m m \u001b[39m=\u001b[39m meq \u001b[39m+\u001b[39m mieq\n",
      "File \u001b[1;32mc:\\Users\\adinath\\AppData\\Local\\Programs\\Python\\Python311\\Lib\\site-packages\\scipy\\optimize\\_slsqp_py.py:329\u001b[0m, in \u001b[0;36m<listcomp>\u001b[1;34m(.0)\u001b[0m\n\u001b[0;32m    325\u001b[0m \u001b[39m# Set the parameters that SLSQP will need\u001b[39;00m\n\u001b[0;32m    326\u001b[0m \u001b[39m# meq, mieq: number of equality and inequality constraints\u001b[39;00m\n\u001b[0;32m    327\u001b[0m meq \u001b[39m=\u001b[39m \u001b[39msum\u001b[39m(\u001b[39mmap\u001b[39m(\u001b[39mlen\u001b[39m, [atleast_1d(c[\u001b[39m'\u001b[39m\u001b[39mfun\u001b[39m\u001b[39m'\u001b[39m](x, \u001b[39m*\u001b[39mc[\u001b[39m'\u001b[39m\u001b[39margs\u001b[39m\u001b[39m'\u001b[39m]))\n\u001b[0;32m    328\u001b[0m           \u001b[39mfor\u001b[39;00m c \u001b[39min\u001b[39;00m cons[\u001b[39m'\u001b[39m\u001b[39meq\u001b[39m\u001b[39m'\u001b[39m]]))\n\u001b[1;32m--> 329\u001b[0m mieq \u001b[39m=\u001b[39m \u001b[39msum\u001b[39m(\u001b[39mmap\u001b[39m(\u001b[39mlen\u001b[39m, [atleast_1d(c[\u001b[39m'\u001b[39;49m\u001b[39mfun\u001b[39;49m\u001b[39m'\u001b[39;49m](x, \u001b[39m*\u001b[39;49mc[\u001b[39m'\u001b[39;49m\u001b[39margs\u001b[39;49m\u001b[39m'\u001b[39;49m]))\n\u001b[0;32m    330\u001b[0m            \u001b[39mfor\u001b[39;00m c \u001b[39min\u001b[39;00m cons[\u001b[39m'\u001b[39m\u001b[39mineq\u001b[39m\u001b[39m'\u001b[39m]]))\n\u001b[0;32m    331\u001b[0m \u001b[39m# m = The total number of constraints\u001b[39;00m\n\u001b[0;32m    332\u001b[0m m \u001b[39m=\u001b[39m meq \u001b[39m+\u001b[39m mieq\n",
      "Cell \u001b[1;32mIn[8], line 13\u001b[0m, in \u001b[0;36mconstraints\u001b[1;34m(args)\u001b[0m\n\u001b[0;32m     11\u001b[0m \u001b[39mdef\u001b[39;00m \u001b[39mconstraints\u001b[39m(args):\n\u001b[0;32m     12\u001b[0m     w02, w11, w20, w01 \u001b[39m=\u001b[39m args\n\u001b[1;32m---> 13\u001b[0m     \u001b[39mreturn\u001b[39;00m [\u001b[39m-\u001b[39m\u001b[39m2\u001b[39m \u001b[39m*\u001b[39m (a\u001b[39m*\u001b[39mw01 \u001b[39m+\u001b[39m \u001b[39m1\u001b[39m) \u001b[39m<\u001b[39m\u001b[39m=\u001b[39m \u001b[39m2\u001b[39m\u001b[39m*\u001b[39m(a\u001b[39m*\u001b[39mw01 \u001b[39m+\u001b[39m \u001b[39m1\u001b[39m) \u001b[39m-\u001b[39m \u001b[39m27\u001b[39m\u001b[39m*\u001b[39ma\u001b[39m*\u001b[39m\u001b[39m*\u001b[39m\u001b[39m2\u001b[39m\u001b[39m*\u001b[39m(a\u001b[39m*\u001b[39m(a\u001b[39m*\u001b[39mw02 \u001b[39m+\u001b[39m w11) \u001b[39m+\u001b[39m w20) \u001b[39m<\u001b[39m\u001b[39m=\u001b[39m \u001b[39m2\u001b[39m\u001b[39m*\u001b[39m(a\u001b[39m*\u001b[39mw01 \u001b[39m+\u001b[39m \u001b[39m1\u001b[39m),\n\u001b[0;32m     14\u001b[0m             \u001b[39m-\u001b[39m\u001b[39m9\u001b[39m\u001b[39m/\u001b[39m\u001b[39m16\u001b[39m \u001b[39m<\u001b[39m\u001b[39m=\u001b[39m w01 \u001b[39m<\u001b[39m\u001b[39m=\u001b[39m \u001b[39m9\u001b[39m\u001b[39m/\u001b[39m\u001b[39m8\u001b[39m,\n\u001b[0;32m     15\u001b[0m             \u001b[39m15\u001b[39m\u001b[39m/\u001b[39m\u001b[39m16\u001b[39m\u001b[39m*\u001b[39mw20 \u001b[39m+\u001b[39m w11 \u001b[39m>\u001b[39m\u001b[39m=\u001b[39m \u001b[39m0\u001b[39m,\n\u001b[0;32m     16\u001b[0m             \u001b[39m81\u001b[39m\u001b[39m/\u001b[39m\u001b[39m256\u001b[39m\u001b[39m*\u001b[39mw20 \u001b[39m+\u001b[39m w02 \u001b[39m+\u001b[39m \u001b[39m9\u001b[39m\u001b[39m/\u001b[39m\u001b[39m16\u001b[39m\u001b[39m*\u001b[39mw11 \u001b[39m>\u001b[39m\u001b[39m=\u001b[39m \u001b[39m0\u001b[39m,\n\u001b[0;32m     17\u001b[0m             \u001b[39m0\u001b[39m \u001b[39m<\u001b[39m\u001b[39m=\u001b[39m w20 \u001b[39m<\u001b[39m\u001b[39m=\u001b[39m (\u001b[39m3\u001b[39m\u001b[39m/\u001b[39m\u001b[39m8\u001b[39m)\u001b[39m*\u001b[39m\u001b[39m*\u001b[39m\u001b[39m2\u001b[39m]\n",
      "\u001b[1;31mValueError\u001b[0m: The truth value of an array with more than one element is ambiguous. Use a.any() or a.all()"
     ]
    }
   ],
   "source": [
    "import numpy as np\n",
    "from scipy.optimize import minimize, Bounds\n",
    "from scipy.spatial import ConvexHull\n",
    "import matplotlib.pyplot as plt\n",
    "from mpl_toolkits.mplot3d import Axes3D\n",
    "import itertools\n",
    "\n",
    "a = np.arange(-8/9, 16/9+1/200, 1/200)\n",
    "w2 = ['w02', 'w11', 'w20', 'w01']\n",
    "\n",
    "def constraints(args):\n",
    "    w02, w11, w20, w01 = args\n",
    "    return [-2 * (a*w01 + 1) <= 2*(a*w01 + 1) - 27*a**2*(a*(a*w02 + w11) + w20) <= 2*(a*w01 + 1),\n",
    "            -9/16 <= w01 <= 9/8,\n",
    "            15/16*w20 + w11 >= 0,\n",
    "            81/256*w20 + w02 + 9/16*w11 >= 0,\n",
    "            0 <= w20 <= (3/8)**2]\n",
    "\n",
    "bounds = Bounds([-0.089, -0.0828, 0, 0], [0.0396, 0.0942, 0.140625, np.inf])\n",
    "\n",
    "vertices = []\n",
    "for values in itertools.product(a, repeat=4):\n",
    "    res = minimize(lambda x: sum(x), x0 = [0,0,0.13,1], method= 'slsqp', args=values, constraints={'type': 'ineq', 'fun': constraints}, bounds=bounds)\n",
    "    if res.success:\n",
    "        vertices.append(res.x)\n",
    "\n",
    "vertices = np.array(vertices)\n",
    "hull = ConvexHull(vertices)\n",
    "\n",
    "fig = plt.figure()\n",
    "ax = fig.add_subplot(111, projection='3d')\n",
    "ax.plot_trisurf(vertices[hull.vertices, 0], vertices[hull.vertices, 1], vertices[hull.vertices, 2], linewidth=0.2, alpha=0.5)\n",
    "ax.set_xlabel('w02')\n",
    "ax.set_ylabel('w11')\n",
    "ax.set_zlabel('w20')\n",
    "plt.show()\n"
   ]
  },
  {
   "cell_type": "code",
   "execution_count": 5,
   "metadata": {},
   "outputs": [
    {
     "data": {
      "text/plain": [
       "[W6,\n",
       " W7,\n",
       " W8,\n",
       " W9,\n",
       " W10,\n",
       " -1.0*W1 + 1.0*W2 + 1.0*cos(W0),\n",
       " 1.0*W1 - 2.0*W2 + 1.0*W3,\n",
       " 1.0*W2 - 2.0*W3 + 1.0*W4,\n",
       " 1.0*W3 - 2.0*W4 + 1.0*W5,\n",
       " 1.0*W4 - 1.0*W5]"
      ]
     },
     "execution_count": 5,
     "metadata": {},
     "output_type": "execute_result"
    }
   ],
   "source": [
    "import sympy as smp\n",
    "mass = 1\n",
    "N = 5\n",
    "k = 1\n",
    "omega = 1\n",
    "W = smp.symbols(f'W(0:{2*N+1})')\n",
    "\"\"\"Let the variables be t, ξ1, ξ2,..., ξN, ξ'1, ξ'2,..., ξ'N\"\"\"\n",
    "\n",
    "# defining the system of differential equations\n",
    "fsys = []\n",
    "for i in range(1,N+1):\n",
    "    fsys.append(W[N+i])\n",
    "for i in range(1,N+1):\n",
    "    if i == 1:\n",
    "        fsys.append((1/mass)*(k*(W[2] - W[1]) + smp.cos(omega*W[0])))\n",
    "    elif i == N:\n",
    "        fsys.append((1/mass)*(k*(W[N-1] - W[N])))\n",
    "    else:\n",
    "        fsys.append((1/mass)*(k*(W[i+1] - W[i]) + k*(W[i-1] - W[i])))\n",
    "\n",
    "fsys"
   ]
  },
  {
   "cell_type": "code",
   "execution_count": null,
   "metadata": {},
   "outputs": [],
   "source": []
  }
 ],
 "metadata": {
  "kernelspec": {
   "display_name": "Python 3",
   "language": "python",
   "name": "python3"
  },
  "language_info": {
   "codemirror_mode": {
    "name": "ipython",
    "version": 3
   },
   "file_extension": ".py",
   "mimetype": "text/x-python",
   "name": "python",
   "nbconvert_exporter": "python",
   "pygments_lexer": "ipython3",
   "version": "3.11.2"
  },
  "orig_nbformat": 4
 },
 "nbformat": 4,
 "nbformat_minor": 2
}
