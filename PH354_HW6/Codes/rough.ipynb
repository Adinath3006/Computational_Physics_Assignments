{
 "cells": [
  {
   "cell_type": "code",
   "execution_count": 19,
   "metadata": {},
   "outputs": [],
   "source": [
    "for i in range(0, 5):\n",
    "    def new_function(x):\n",
    "        return i*x**2\n",
    "    \n",
    "    function_name = f\"function_{i}\"   \n",
    "\n",
    "    globals()[function_name] = new_function\n"
   ]
  },
  {
   "cell_type": "code",
   "execution_count": 2,
   "metadata": {},
   "outputs": [
    {
     "data": {
      "text/plain": [
       "2"
      ]
     },
     "execution_count": 2,
     "metadata": {},
     "output_type": "execute_result"
    }
   ],
   "source": [
    "5//2\n"
   ]
  },
  {
   "cell_type": "code",
   "execution_count": 6,
   "metadata": {},
   "outputs": [
    {
     "data": {
      "text/plain": [
       "[[1, 2], [3, 4], [1, 2], [3, 4]]"
      ]
     },
     "execution_count": 6,
     "metadata": {},
     "output_type": "execute_result"
    }
   ],
   "source": [
    "import numpy as np\n",
    "z = [[1,2],[3,4]]\n",
    "y = [[1,2],[3,4]]\n",
    "x = np.array(z)\n",
    "z+y"
   ]
  },
  {
   "cell_type": "code",
   "execution_count": 24,
   "metadata": {},
   "outputs": [
    {
     "name": "stdout",
     "output_type": "stream",
     "text": [
      "This is function 1\n",
      "This is function 2\n",
      "This is function 3\n",
      "This is function 4\n",
      "This is function 5\n"
     ]
    }
   ],
   "source": [
    "def function_generator(n):\n",
    "    def create_function(i):\n",
    "        def function():\n",
    "            # Method implementation for function i\n",
    "            print(f\"This is function {i}\")\n",
    "        return function\n",
    "\n",
    "    for i in range(1, n+1):\n",
    "        globals()[f\"function{i}\"] = create_function(i)\n",
    "\n",
    "# Call the function generator to define n functions\n",
    "function_generator(5)\n",
    "\n",
    "# Call each defined function by their respective name to execute the code within their implementation\n",
    "function1()\n",
    "function2()\n",
    "function3()\n",
    "function4()\n",
    "function5()"
   ]
  },
  {
   "cell_type": "code",
   "execution_count": null,
   "metadata": {},
   "outputs": [],
   "source": []
  }
 ],
 "metadata": {
  "kernelspec": {
   "display_name": "Python 3",
   "language": "python",
   "name": "python3"
  },
  "language_info": {
   "codemirror_mode": {
    "name": "ipython",
    "version": 3
   },
   "file_extension": ".py",
   "mimetype": "text/x-python",
   "name": "python",
   "nbconvert_exporter": "python",
   "pygments_lexer": "ipython3",
   "version": "3.11.2"
  },
  "orig_nbformat": 4
 },
 "nbformat": 4,
 "nbformat_minor": 2
}
